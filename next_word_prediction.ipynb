{
 "cells": [
  {
   "cell_type": "markdown",
   "metadata": {},
   "source": [
    "## 1. Importing the libraries"
   ]
  },
  {
   "cell_type": "code",
   "execution_count": 1,
   "metadata": {},
   "outputs": [],
   "source": [
    "import tensorflow as tf\n",
    "from tensorflow.keras.preprocessing.text import Tokenizer\n",
    "from tensorflow.keras.preprocessing.sequence import pad_sequences"
   ]
  },
  {
   "cell_type": "markdown",
   "metadata": {},
   "source": [
    "## 2. Training Dataset preparation"
   ]
  },
  {
   "cell_type": "markdown",
   "metadata": {},
   "source": [
    "The following dataset is downloaded from kaggle for dataset link click [here](https://www.kaggle.com/datasets/mahendran1/bed-time-stories?resource=download)"
   ]
  },
  {
   "cell_type": "code",
   "execution_count": 2,
   "metadata": {},
   "outputs": [],
   "source": [
    "import os\n",
    "from pathlib import Path as path\n",
    "\n",
    "home_dir = path.cwd().parent.parent\n",
    "dataset_dir = home_dir / 'dataset'"
   ]
  },
  {
   "cell_type": "code",
   "execution_count": 7,
   "metadata": {},
   "outputs": [],
   "source": [
    "# Loop through each file in the directory\n",
    "for file_path in dataset_dir.iterdir():\n",
    "    # Ensure we're working with files only\n",
    "    if file_path.is_file():\n",
    "        # Read the entire content of the file\n",
    "        with open(file_path, 'r') as file:\n",
    "            text = file.read()\n",
    "\n",
    "        # Remove multiple blank lines\n",
    "        text = text.replace('\\n\\n\\n', '\\n').replace('\\n\\n', '\\n')\n",
    "\n",
    "        # Remove the first blank line if it exists\n",
    "        if text.startswith('\\n'):\n",
    "            text = text[1:]\n",
    "\n",
    "        # Write the updated content back to the file\n",
    "        with open(file_path, 'w') as file:\n",
    "            file.write(text)"
   ]
  },
  {
   "cell_type": "code",
   "execution_count": 9,
   "metadata": {},
   "outputs": [],
   "source": [
    "output_file_path = dataset_dir / 'combined.txt'\n",
    "combined_text = []\n",
    "\n",
    "for file_path in dataset_dir.iterdir():\n",
    "    if file_path.is_file() and file_path.suffix == '.txt':\n",
    "        with open(file_path, 'r') as file:\n",
    "            combined_text.append(file.read())\n",
    "\n",
    "combined_text = '\\n'.join(combined_text)\n",
    "\n",
    "with open(output_file_path, 'w') as file:\n",
    "    file.write(combined_text)"
   ]
  }
 ],
 "metadata": {
  "kernelspec": {
   "display_name": "Python 3",
   "language": "python",
   "name": "python3"
  },
  "language_info": {
   "codemirror_mode": {
    "name": "ipython",
    "version": 3
   },
   "file_extension": ".py",
   "mimetype": "text/x-python",
   "name": "python",
   "nbconvert_exporter": "python",
   "pygments_lexer": "ipython3",
   "version": "3.11.8"
  }
 },
 "nbformat": 4,
 "nbformat_minor": 2
}
